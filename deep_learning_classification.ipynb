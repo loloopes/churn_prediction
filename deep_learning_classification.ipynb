{
 "cells": [
  {
   "cell_type": "code",
   "execution_count": 1,
   "metadata": {},
   "outputs": [],
   "source": [
    "import torch\n",
    "import torch.nn as nn\n",
    "import torch.optim as optim\n",
    "from torch.utils.data import DataLoader, TensorDataset, random_split, Subset, WeightedRandomSampler\n",
    "from bayes_opt import BayesianOptimization\n",
    "from sklearn.model_selection import KFold, train_test_split\n",
    "from sklearn.metrics import accuracy_score, classification_report, confusion_matrix, roc_auc_score, precision_recall_curve, auc\n",
    "import numpy as np\n",
    "import pandas as pd\n",
    "import matplotlib.pyplot as plt"
   ]
  },
  {
   "cell_type": "code",
   "execution_count": 2,
   "metadata": {},
   "outputs": [
    {
     "name": "stdout",
     "output_type": "stream",
     "text": [
      "Using device: cuda\n"
     ]
    }
   ],
   "source": [
    "# Check if GPU is available and set the device\n",
    "device = torch.device(\"cuda\" if torch.cuda.is_available() else \"cpu\")\n",
    "print(\"Using device:\", device)"
   ]
  },
  {
   "cell_type": "code",
   "execution_count": 3,
   "metadata": {},
   "outputs": [],
   "source": [
    "# Load dataset\n",
    "df = pd.read_csv('./dados/cleaned_dataset.csv')"
   ]
  },
  {
   "cell_type": "code",
   "execution_count": 4,
   "metadata": {},
   "outputs": [],
   "source": [
    "# Drop unnecessary columns\n",
    "df = df.drop(columns=['Id'])"
   ]
  },
  {
   "cell_type": "code",
   "execution_count": 5,
   "metadata": {},
   "outputs": [],
   "source": [
    "# Split features and labels\n",
    "X = df[['Score', 'Gender', 'Age', 'Assets', 'Products', 'Active']]\n",
    "y = df['Churned']"
   ]
  },
  {
   "cell_type": "code",
   "execution_count": 8,
   "metadata": {},
   "outputs": [],
   "source": [
    "# Normalize the features\n",
    "from sklearn.preprocessing import StandardScaler\n",
    "scaler = StandardScaler()\n",
    "X = scaler.fit_transform(X)"
   ]
  },
  {
   "cell_type": "code",
   "execution_count": 9,
   "metadata": {},
   "outputs": [],
   "source": [
    "# Convert data to PyTorch tensors\n",
    "X_tensor = torch.tensor(X, dtype=torch.float32).to(device)\n",
    "y_tensor = torch.tensor(y.values, dtype=torch.float32).view(-1, 1).to(device)  # Reshape y for compatibility"
   ]
  },
  {
   "cell_type": "code",
   "execution_count": 10,
   "metadata": {},
   "outputs": [],
   "source": [
    "# Split data into training and testing sets\n",
    "X_train_tensor, X_test_tensor, y_train_tensor, y_test_tensor = train_test_split(X_tensor, y_tensor, test_size=0.1, random_state=42)\n",
    "train_dataset = TensorDataset(X_train_tensor, y_train_tensor)"
   ]
  },
  {
   "cell_type": "code",
   "execution_count": 12,
   "metadata": {},
   "outputs": [],
   "source": [
    "# Calculate class weights to handle imbalance\n",
    "class_counts = np.bincount(y_train_tensor.cpu().numpy().flatten().astype(int))\n",
    "class_weights = 1.0 / class_counts\n",
    "sample_weights = [class_weights[int(y)] for y in y_train_tensor.cpu().numpy().flatten()]\n",
    "sampler = WeightedRandomSampler(weights=sample_weights, num_samples=len(sample_weights), replacement=True)"
   ]
  },
  {
   "cell_type": "code",
   "execution_count": 13,
   "metadata": {},
   "outputs": [],
   "source": [
    "# Create DataLoader for training with weighted sampling\n",
    "train_loader = DataLoader(train_dataset, batch_size=32, sampler=sampler)"
   ]
  },
  {
   "cell_type": "code",
   "execution_count": 15,
   "metadata": {},
   "outputs": [],
   "source": [
    "# Split the dataset into training and validation sets for metric tracking\n",
    "train_size = int(0.8 * len(train_dataset))\n",
    "val_size = len(train_dataset) - train_size\n",
    "train_subset, val_subset = random_split(train_dataset, [train_size, val_size])"
   ]
  },
  {
   "cell_type": "code",
   "execution_count": 17,
   "metadata": {},
   "outputs": [
    {
     "name": "stdout",
     "output_type": "stream",
     "text": [
      "Training and validation DataLoaders have been created.\n"
     ]
    }
   ],
   "source": [
    "# Create DataLoaders for training and validation sets\n",
    "train_loader = DataLoader(train_subset, batch_size=32, sampler=sampler)\n",
    "val_loader = DataLoader(val_subset, batch_size=32, shuffle=False)\n",
    "print(\"Training and validation DataLoaders have been created.\")"
   ]
  },
  {
   "cell_type": "code",
   "execution_count": 18,
   "metadata": {},
   "outputs": [],
   "source": [
    "# Define neural network model\n",
    "class BinaryClassificationModel(nn.Module):\n",
    "    def __init__(self, input_size, hidden1_size, hidden2_size):\n",
    "        super(BinaryClassificationModel, self).__init__()\n",
    "        self.fc1 = nn.Linear(input_size, hidden1_size)\n",
    "        self.fc2 = nn.Linear(hidden1_size, hidden2_size)\n",
    "        self.fc3 = nn.Linear(hidden2_size, 1)\n",
    "        self.gelu = nn.GELU()\n",
    "        self.sigmoid = nn.Sigmoid()\n",
    "\n",
    "    def forward(self, x):\n",
    "        x = self.gelu(self.fc1(x))\n",
    "        x = self.gelu(self.fc2(x))\n",
    "        x = self.sigmoid(self.fc3(x))\n",
    "        return x"
   ]
  },
  {
   "cell_type": "code",
   "execution_count": 19,
   "metadata": {},
   "outputs": [],
   "source": [
    "# Function to train and evaluate the model using cross-validation\n",
    "def cross_val_model(hidden1_size, hidden2_size, learning_rate):\n",
    "    hidden1_size = int(hidden1_size)\n",
    "    hidden2_size = int(hidden2_size)\n",
    "\n",
    "    kf = KFold(n_splits=5, shuffle=True, random_state=42)\n",
    "    cv_accuracies = []\n",
    "\n",
    "    for train_index, val_index in kf.split(X_tensor):\n",
    "        X_train_fold = X_tensor[train_index]\n",
    "        y_train_fold = y_tensor[train_index]\n",
    "        X_val_fold = X_tensor[val_index]\n",
    "        y_val_fold = y_tensor[val_index]\n",
    "\n",
    "        # Create DataLoader for training fold\n",
    "        train_dataset = TensorDataset(X_train_fold, y_train_fold)\n",
    "        train_loader = DataLoader(train_dataset, batch_size=32, shuffle=True)\n",
    "\n",
    "        # Initialize the model, criterion, and optimizer\n",
    "        model = BinaryClassificationModel(X_train_fold.shape[1], hidden1_size, hidden2_size).to(device)\n",
    "        criterion = nn.BCELoss()\n",
    "        optimizer = optim.Adam(model.parameters(), lr=learning_rate)\n",
    "\n",
    "        # Train the model\n",
    "        model.train()\n",
    "        for epoch in range(50):\n",
    "            for inputs, labels in train_loader:\n",
    "                inputs, labels = inputs.to(device), labels.to(device)  # Move data to GPU\n",
    "                optimizer.zero_grad()\n",
    "                outputs = model(inputs)\n",
    "                loss = criterion(outputs, labels)\n",
    "                loss.backward()\n",
    "                optimizer.step()\n",
    "\n",
    "        # Evaluate the model on the validation fold\n",
    "        model.eval()\n",
    "        with torch.no_grad():\n",
    "            y_pred_probs = model(X_val_fold)\n",
    "            y_pred = (y_pred_probs > 0.5).float()\n",
    "\n",
    "        # Calculate accuracy for this fold\n",
    "        acc = accuracy_score(y_val_fold.cpu().numpy(), y_pred.cpu().numpy())\n",
    "        cv_accuracies.append(acc)\n",
    "\n",
    "    # Return the average accuracy across folds\n",
    "    return np.mean(cv_accuracies)\n",
    "\n"
   ]
  },
  {
   "cell_type": "code",
   "execution_count": 20,
   "metadata": {},
   "outputs": [],
   "source": [
    "# Set the parameter bounds for Bayesian Optimization\n",
    "param_bounds = {\n",
    "    'hidden1_size': (32, 128),  # Number of neurons in the first hidden layer\n",
    "    'hidden2_size': (16, 64),   # Number of neurons in the second hidden layer\n",
    "    'learning_rate': (0.0001, 0.01)  # Learning rate for training\n",
    "}"
   ]
  },
  {
   "cell_type": "code",
   "execution_count": 21,
   "metadata": {},
   "outputs": [
    {
     "name": "stdout",
     "output_type": "stream",
     "text": [
      "|   iter    |  target   | hidden... | hidden... | learni... |\n",
      "-------------------------------------------------------------\n",
      "| \u001b[39m1        \u001b[39m | \u001b[39m0.8089   \u001b[39m | \u001b[39m67.96    \u001b[39m | \u001b[39m61.63    \u001b[39m | \u001b[39m0.007347 \u001b[39m |\n",
      "| \u001b[35m2        \u001b[39m | \u001b[35m0.8279   \u001b[39m | \u001b[35m89.47    \u001b[39m | \u001b[35m23.49    \u001b[39m | \u001b[35m0.001644 \u001b[39m |\n",
      "| \u001b[39m3        \u001b[39m | \u001b[39m0.8068   \u001b[39m | \u001b[39m37.58    \u001b[39m | \u001b[39m57.58    \u001b[39m | \u001b[39m0.006051 \u001b[39m |\n",
      "| \u001b[39m4        \u001b[39m | \u001b[39m0.8099   \u001b[39m | \u001b[39m99.97    \u001b[39m | \u001b[39m16.99    \u001b[39m | \u001b[39m0.009702 \u001b[39m |\n",
      "| \u001b[35m5        \u001b[39m | \u001b[35m0.8369   \u001b[39m | \u001b[35m111.9    \u001b[39m | \u001b[35m26.19    \u001b[39m | \u001b[35m0.0019   \u001b[39m |\n",
      "| \u001b[39m6        \u001b[39m | \u001b[39m0.8109   \u001b[39m | \u001b[39m111.8    \u001b[39m | \u001b[39m26.15    \u001b[39m | \u001b[39m0.006438 \u001b[39m |\n",
      "| \u001b[35m7        \u001b[39m | \u001b[35m0.8419   \u001b[39m | \u001b[35m47.44    \u001b[39m | \u001b[35m35.15    \u001b[39m | \u001b[35m0.0009565\u001b[39m |\n",
      "| \u001b[39m8        \u001b[39m | \u001b[39m0.8389   \u001b[39m | \u001b[39m63.22    \u001b[39m | \u001b[39m39.0     \u001b[39m | \u001b[39m0.001514 \u001b[39m |\n",
      "| \u001b[39m9        \u001b[39m | \u001b[39m0.8109   \u001b[39m | \u001b[39m122.5    \u001b[39m | \u001b[39m33.66    \u001b[39m | \u001b[39m0.002291 \u001b[39m |\n",
      "| \u001b[39m10       \u001b[39m | \u001b[39m0.8169   \u001b[39m | \u001b[39m117.8    \u001b[39m | \u001b[39m57.35    \u001b[39m | \u001b[39m0.004191 \u001b[39m |\n",
      "| \u001b[39m11       \u001b[39m | \u001b[39m0.7998   \u001b[39m | \u001b[39m63.9     \u001b[39m | \u001b[39m48.64    \u001b[39m | \u001b[39m0.009634 \u001b[39m |\n",
      "| \u001b[39m12       \u001b[39m | \u001b[39m0.8169   \u001b[39m | \u001b[39m41.07    \u001b[39m | \u001b[39m54.46    \u001b[39m | \u001b[39m0.005997 \u001b[39m |\n",
      "| \u001b[39m13       \u001b[39m | \u001b[39m0.8128   \u001b[39m | \u001b[39m70.69    \u001b[39m | \u001b[39m56.35    \u001b[39m | \u001b[39m0.0076   \u001b[39m |\n",
      "| \u001b[39m14       \u001b[39m | \u001b[39m0.8078   \u001b[39m | \u001b[39m90.59    \u001b[39m | \u001b[39m26.63    \u001b[39m | \u001b[39m0.009764 \u001b[39m |\n",
      "| \u001b[39m15       \u001b[39m | \u001b[39m0.8199   \u001b[39m | \u001b[39m35.92    \u001b[39m | \u001b[39m39.47    \u001b[39m | \u001b[39m0.005957 \u001b[39m |\n",
      "| \u001b[39m16       \u001b[39m | \u001b[39m0.8389   \u001b[39m | \u001b[39m61.6     \u001b[39m | \u001b[39m57.33    \u001b[39m | \u001b[39m0.001029 \u001b[39m |\n",
      "| \u001b[39m17       \u001b[39m | \u001b[39m0.8199   \u001b[39m | \u001b[39m111.7    \u001b[39m | \u001b[39m46.69    \u001b[39m | \u001b[39m0.004631 \u001b[39m |\n",
      "| \u001b[39m18       \u001b[39m | \u001b[39m0.8109   \u001b[39m | \u001b[39m57.75    \u001b[39m | \u001b[39m28.25    \u001b[39m | \u001b[39m0.005094 \u001b[39m |\n",
      "| \u001b[39m19       \u001b[39m | \u001b[39m0.8129   \u001b[39m | \u001b[39m90.79    \u001b[39m | \u001b[39m18.95    \u001b[39m | \u001b[39m0.004306 \u001b[39m |\n",
      "| \u001b[39m20       \u001b[39m | \u001b[39m0.8299   \u001b[39m | \u001b[39m88.87    \u001b[39m | \u001b[39m50.54    \u001b[39m | \u001b[39m0.001367 \u001b[39m |\n",
      "| \u001b[39m21       \u001b[39m | \u001b[39m0.8078   \u001b[39m | \u001b[39m122.8    \u001b[39m | \u001b[39m37.67    \u001b[39m | \u001b[39m0.009112 \u001b[39m |\n",
      "| \u001b[39m22       \u001b[39m | \u001b[39m0.8349   \u001b[39m | \u001b[39m97.34    \u001b[39m | \u001b[39m32.98    \u001b[39m | \u001b[39m0.001527 \u001b[39m |\n",
      "| \u001b[39m23       \u001b[39m | \u001b[39m0.8179   \u001b[39m | \u001b[39m64.29    \u001b[39m | \u001b[39m18.79    \u001b[39m | \u001b[39m0.008797 \u001b[39m |\n",
      "| \u001b[39m24       \u001b[39m | \u001b[39m0.8118   \u001b[39m | \u001b[39m116.5    \u001b[39m | \u001b[39m56.21    \u001b[39m | \u001b[39m0.003276 \u001b[39m |\n",
      "| \u001b[39m25       \u001b[39m | \u001b[39m0.8079   \u001b[39m | \u001b[39m63.59    \u001b[39m | \u001b[39m62.23    \u001b[39m | \u001b[39m0.005102 \u001b[39m |\n",
      "| \u001b[39m26       \u001b[39m | \u001b[39m0.8068   \u001b[39m | \u001b[39m105.8    \u001b[39m | \u001b[39m19.92    \u001b[39m | \u001b[39m0.00642  \u001b[39m |\n",
      "| \u001b[39m27       \u001b[39m | \u001b[39m0.8149   \u001b[39m | \u001b[39m82.57    \u001b[39m | \u001b[39m26.62    \u001b[39m | \u001b[39m0.009365 \u001b[39m |\n",
      "| \u001b[39m28       \u001b[39m | \u001b[39m0.8078   \u001b[39m | \u001b[39m38.75    \u001b[39m | \u001b[39m53.47    \u001b[39m | \u001b[39m0.008738 \u001b[39m |\n",
      "| \u001b[39m29       \u001b[39m | \u001b[39m0.8018   \u001b[39m | \u001b[39m50.38    \u001b[39m | \u001b[39m36.19    \u001b[39m | \u001b[39m0.008847 \u001b[39m |\n",
      "| \u001b[39m30       \u001b[39m | \u001b[39m0.8099   \u001b[39m | \u001b[39m91.23    \u001b[39m | \u001b[39m18.26    \u001b[39m | \u001b[39m0.00846  \u001b[39m |\n",
      "=============================================================\n"
     ]
    }
   ],
   "source": [
    "# Run Bayesian Optimization\n",
    "optimizer = BayesianOptimization(f=cross_val_model, pbounds=param_bounds, random_state=42)\n",
    "optimizer.maximize(init_points=5, n_iter=25)"
   ]
  },
  {
   "cell_type": "code",
   "execution_count": 22,
   "metadata": {},
   "outputs": [
    {
     "name": "stdout",
     "output_type": "stream",
     "text": [
      "Best Parameters Found:\n",
      "{'target': 0.8418693467336682, 'params': {'hidden1_size': 47.43529628075367, 'hidden2_size': 35.15451534462412, 'learning_rate': 0.0009564998092699108}}\n"
     ]
    }
   ],
   "source": [
    "# Print the best parameters found\n",
    "print(\"Best Parameters Found:\")\n",
    "print(optimizer.max)"
   ]
  },
  {
   "cell_type": "code",
   "execution_count": 23,
   "metadata": {},
   "outputs": [],
   "source": [
    "# Train the final model with the best parameters found and evaluate it\n",
    "best_params = optimizer.max['params']\n",
    "model = BinaryClassificationModel(X_tensor.shape[1], int(best_params['hidden1_size']), int(best_params['hidden2_size'])).to(device)\n",
    "optimizer = optim.Adam(model.parameters(), lr=best_params['learning_rate'])\n",
    "criterion = nn.BCELoss()"
   ]
  },
  {
   "cell_type": "code",
   "execution_count": 24,
   "metadata": {},
   "outputs": [],
   "source": [
    "# Lists to store metrics for plotting\n",
    "train_losses = []\n",
    "train_accuracies = []\n",
    "val_losses = []\n",
    "val_accuracies = []"
   ]
  },
  {
   "cell_type": "code",
   "execution_count": 25,
   "metadata": {},
   "outputs": [],
   "source": [
    "# Split the dataset into training and validation sets for metric tracking\n",
    "train_size = int(0.8 * len(train_dataset))\n",
    "val_size = len(train_dataset) - train_size\n",
    "train_subset, val_subset = random_split(train_dataset, [train_size, val_size])\n",
    "train_loader = DataLoader(train_subset, batch_size=32, shuffle=True)\n",
    "val_loader = DataLoader(val_subset, batch_size=32, shuffle=False)"
   ]
  },
  {
   "cell_type": "code",
   "execution_count": 26,
   "metadata": {},
   "outputs": [
    {
     "name": "stdout",
     "output_type": "stream",
     "text": [
      "Epoch 1/50, Train Loss: 0.6888, Val Loss: 0.6432, Train Acc: 0.4993, Val Acc: 0.7611\n",
      "Epoch 2/50, Train Loss: 0.5868, Val Loss: 0.5504, Train Acc: 0.8108, Val Acc: 0.7889\n",
      "Epoch 3/50, Train Loss: 0.4919, Val Loss: 0.4866, Train Acc: 0.8095, Val Acc: 0.8000\n",
      "Epoch 4/50, Train Loss: 0.4447, Val Loss: 0.4599, Train Acc: 0.8178, Val Acc: 0.8056\n",
      "Epoch 5/50, Train Loss: 0.4263, Val Loss: 0.4501, Train Acc: 0.8234, Val Acc: 0.8111\n",
      "Epoch 6/50, Train Loss: 0.4175, Val Loss: 0.4435, Train Acc: 0.8317, Val Acc: 0.8111\n",
      "Epoch 7/50, Train Loss: 0.4099, Val Loss: 0.4370, Train Acc: 0.8331, Val Acc: 0.8167\n",
      "Epoch 8/50, Train Loss: 0.4030, Val Loss: 0.4329, Train Acc: 0.8345, Val Acc: 0.8167\n",
      "Epoch 9/50, Train Loss: 0.3979, Val Loss: 0.4329, Train Acc: 0.8401, Val Acc: 0.8111\n",
      "Epoch 10/50, Train Loss: 0.3933, Val Loss: 0.4264, Train Acc: 0.8359, Val Acc: 0.8111\n",
      "Epoch 11/50, Train Loss: 0.3882, Val Loss: 0.4242, Train Acc: 0.8387, Val Acc: 0.8056\n",
      "Epoch 12/50, Train Loss: 0.3830, Val Loss: 0.4229, Train Acc: 0.8401, Val Acc: 0.8056\n",
      "Epoch 13/50, Train Loss: 0.3799, Val Loss: 0.4223, Train Acc: 0.8401, Val Acc: 0.8167\n",
      "Epoch 14/50, Train Loss: 0.3757, Val Loss: 0.4161, Train Acc: 0.8414, Val Acc: 0.8167\n",
      "Epoch 15/50, Train Loss: 0.3705, Val Loss: 0.4160, Train Acc: 0.8442, Val Acc: 0.8222\n",
      "Epoch 16/50, Train Loss: 0.3666, Val Loss: 0.4121, Train Acc: 0.8470, Val Acc: 0.8167\n",
      "Epoch 17/50, Train Loss: 0.3642, Val Loss: 0.4110, Train Acc: 0.8484, Val Acc: 0.8056\n",
      "Epoch 18/50, Train Loss: 0.3606, Val Loss: 0.4023, Train Acc: 0.8484, Val Acc: 0.8222\n",
      "Epoch 19/50, Train Loss: 0.3535, Val Loss: 0.4039, Train Acc: 0.8484, Val Acc: 0.8111\n",
      "Epoch 20/50, Train Loss: 0.3515, Val Loss: 0.3983, Train Acc: 0.8554, Val Acc: 0.8222\n",
      "Epoch 21/50, Train Loss: 0.3471, Val Loss: 0.3961, Train Acc: 0.8554, Val Acc: 0.8333\n",
      "Epoch 22/50, Train Loss: 0.3441, Val Loss: 0.3932, Train Acc: 0.8540, Val Acc: 0.8333\n",
      "Epoch 23/50, Train Loss: 0.3420, Val Loss: 0.3920, Train Acc: 0.8609, Val Acc: 0.8333\n",
      "Epoch 24/50, Train Loss: 0.3380, Val Loss: 0.3950, Train Acc: 0.8609, Val Acc: 0.8333\n",
      "Epoch 25/50, Train Loss: 0.3356, Val Loss: 0.3896, Train Acc: 0.8609, Val Acc: 0.8278\n",
      "Epoch 26/50, Train Loss: 0.3333, Val Loss: 0.3895, Train Acc: 0.8581, Val Acc: 0.8167\n",
      "Epoch 27/50, Train Loss: 0.3326, Val Loss: 0.3886, Train Acc: 0.8609, Val Acc: 0.8333\n",
      "Epoch 28/50, Train Loss: 0.3305, Val Loss: 0.3908, Train Acc: 0.8595, Val Acc: 0.8278\n",
      "Epoch 29/50, Train Loss: 0.3313, Val Loss: 0.3858, Train Acc: 0.8595, Val Acc: 0.8278\n",
      "Epoch 30/50, Train Loss: 0.3280, Val Loss: 0.3876, Train Acc: 0.8581, Val Acc: 0.8167\n",
      "Epoch 31/50, Train Loss: 0.3274, Val Loss: 0.3870, Train Acc: 0.8595, Val Acc: 0.8333\n",
      "Epoch 32/50, Train Loss: 0.3280, Val Loss: 0.3885, Train Acc: 0.8595, Val Acc: 0.8389\n",
      "Epoch 33/50, Train Loss: 0.3259, Val Loss: 0.3829, Train Acc: 0.8567, Val Acc: 0.8333\n",
      "Epoch 34/50, Train Loss: 0.3275, Val Loss: 0.3843, Train Acc: 0.8623, Val Acc: 0.8111\n",
      "Epoch 35/50, Train Loss: 0.3249, Val Loss: 0.3855, Train Acc: 0.8581, Val Acc: 0.8333\n",
      "Epoch 36/50, Train Loss: 0.3256, Val Loss: 0.3859, Train Acc: 0.8581, Val Acc: 0.8333\n",
      "Epoch 37/50, Train Loss: 0.3224, Val Loss: 0.3895, Train Acc: 0.8581, Val Acc: 0.8278\n",
      "Epoch 38/50, Train Loss: 0.3243, Val Loss: 0.3855, Train Acc: 0.8554, Val Acc: 0.8333\n",
      "Epoch 39/50, Train Loss: 0.3237, Val Loss: 0.3884, Train Acc: 0.8581, Val Acc: 0.8222\n",
      "Epoch 40/50, Train Loss: 0.3202, Val Loss: 0.3861, Train Acc: 0.8595, Val Acc: 0.8278\n",
      "Epoch 41/50, Train Loss: 0.3202, Val Loss: 0.3849, Train Acc: 0.8623, Val Acc: 0.8333\n",
      "Epoch 42/50, Train Loss: 0.3201, Val Loss: 0.3834, Train Acc: 0.8595, Val Acc: 0.8333\n",
      "Epoch 43/50, Train Loss: 0.3201, Val Loss: 0.3874, Train Acc: 0.8581, Val Acc: 0.8333\n",
      "Epoch 44/50, Train Loss: 0.3188, Val Loss: 0.3858, Train Acc: 0.8567, Val Acc: 0.8167\n",
      "Epoch 45/50, Train Loss: 0.3178, Val Loss: 0.3815, Train Acc: 0.8665, Val Acc: 0.8333\n",
      "Epoch 46/50, Train Loss: 0.3190, Val Loss: 0.3855, Train Acc: 0.8595, Val Acc: 0.8333\n",
      "Epoch 47/50, Train Loss: 0.3165, Val Loss: 0.3834, Train Acc: 0.8595, Val Acc: 0.8222\n",
      "Epoch 48/50, Train Loss: 0.3167, Val Loss: 0.3821, Train Acc: 0.8623, Val Acc: 0.8333\n",
      "Epoch 49/50, Train Loss: 0.3166, Val Loss: 0.3857, Train Acc: 0.8581, Val Acc: 0.8278\n",
      "Epoch 50/50, Train Loss: 0.3170, Val Loss: 0.3812, Train Acc: 0.8623, Val Acc: 0.8278\n"
     ]
    }
   ],
   "source": [
    "# Train the model using the training set and evaluate using the validation set\n",
    "model.train()\n",
    "for epoch in range(50):\n",
    "    # Training phase\n",
    "    running_train_loss = 0.0\n",
    "    correct_train = 0\n",
    "    total_train = 0\n",
    "    for inputs, labels in train_loader:\n",
    "        inputs, labels = inputs.to(device), labels.to(device)\n",
    "        optimizer.zero_grad()\n",
    "        outputs = model(inputs)\n",
    "        loss = criterion(outputs, labels)\n",
    "        loss.backward()\n",
    "        optimizer.step()\n",
    "\n",
    "        running_train_loss += loss.item() * inputs.size(0)\n",
    "        total_train += labels.size(0)\n",
    "        correct_train += ((outputs > 0.5).float() == labels).sum().item()\n",
    "\n",
    "    train_losses.append(running_train_loss / total_train)\n",
    "    train_accuracies.append(correct_train / total_train)\n",
    "\n",
    "    # Validation phase\n",
    "    model.eval()\n",
    "    running_val_loss = 0.0\n",
    "    correct_val = 0\n",
    "    total_val = 0\n",
    "    with torch.no_grad():\n",
    "        for val_inputs, val_labels in val_loader:\n",
    "            val_inputs, val_labels = val_inputs.to(device), val_labels.to(device)\n",
    "            val_outputs = model(val_inputs)\n",
    "            val_loss = criterion(val_outputs, val_labels)\n",
    "\n",
    "            running_val_loss += val_loss.item() * val_inputs.size(0)\n",
    "            total_val += val_labels.size(0)\n",
    "            correct_val += ((val_outputs > 0.5).float() == val_labels).sum().item()\n",
    "\n",
    "    val_losses.append(running_val_loss / total_val)\n",
    "    val_accuracies.append(correct_val / total_val)\n",
    "\n",
    "    print(f\"Epoch {epoch+1}/50, Train Loss: {train_losses[-1]:.4f}, Val Loss: {val_losses[-1]:.4f}, Train Acc: {train_accuracies[-1]:.4f}, Val Acc: {val_accuracies[-1]:.4f}\")"
   ]
  },
  {
   "cell_type": "code",
   "execution_count": 27,
   "metadata": {},
   "outputs": [],
   "source": [
    "# Final evaluation on the test set\n",
    "model.eval()\n",
    "with torch.no_grad():\n",
    "    y_test_pred_probs = model(X_test_tensor)\n",
    "    y_test_pred = (y_test_pred_probs > 0.5).float()"
   ]
  },
  {
   "cell_type": "code",
   "execution_count": 28,
   "metadata": {},
   "outputs": [
    {
     "name": "stdout",
     "output_type": "stream",
     "text": [
      "\n",
      "Test Accuracy: 0.85\n"
     ]
    }
   ],
   "source": [
    "# Calculate test accuracy\n",
    "test_accuracy = accuracy_score(y_test_tensor.cpu().numpy(), y_test_pred.cpu().numpy())\n",
    "print(\"\\nTest Accuracy:\", test_accuracy)"
   ]
  },
  {
   "cell_type": "code",
   "execution_count": 29,
   "metadata": {},
   "outputs": [
    {
     "name": "stdout",
     "output_type": "stream",
     "text": [
      "\n",
      "Confusion Matrix:\n",
      "             Non_Churned(pred)  Churned(pred)\n",
      "Non-Churned                 76              3\n",
      "Churned                     12              9\n"
     ]
    }
   ],
   "source": [
    "# Compute and display the confusion matrix\n",
    "cnf_matrix = confusion_matrix(y_test_tensor.cpu().numpy(), y_test_pred.cpu().numpy())\n",
    "cnf_table = pd.DataFrame(data=cnf_matrix, index=['Non-Churned', 'Churned'], columns=['Non_Churned(pred)', 'Churned(pred)'])\n",
    "print(\"\\nConfusion Matrix:\")\n",
    "print(cnf_table)"
   ]
  },
  {
   "cell_type": "code",
   "execution_count": 30,
   "metadata": {},
   "outputs": [
    {
     "name": "stdout",
     "output_type": "stream",
     "text": [
      "\n",
      "Classification Report:\n",
      "              precision    recall  f1-score   support\n",
      "\n",
      " Non Churned       0.86      0.96      0.91        79\n",
      "     Churned       0.75      0.43      0.55        21\n",
      "\n",
      "    accuracy                           0.85       100\n",
      "   macro avg       0.81      0.70      0.73       100\n",
      "weighted avg       0.84      0.85      0.83       100\n",
      "\n"
     ]
    }
   ],
   "source": [
    "# Print classification report with the zero_division parameter\n",
    "print(\"\\nClassification Report:\")\n",
    "print(classification_report(y_test_tensor.cpu().numpy(), y_test_pred.cpu().numpy(), target_names=['Non Churned', 'Churned'], zero_division=1))"
   ]
  },
  {
   "cell_type": "code",
   "execution_count": 32,
   "metadata": {},
   "outputs": [
    {
     "name": "stdout",
     "output_type": "stream",
     "text": [
      "\n",
      "ROC AUC Score: 0.8318\n",
      "Precision-Recall AUC: 0.6611\n"
     ]
    }
   ],
   "source": [
    "# Print additional evaluation metrics\n",
    "roc_auc = roc_auc_score(y_test_tensor.cpu().numpy(), y_test_pred_probs.cpu().numpy())\n",
    "precision, recall, _ = precision_recall_curve(y_test_tensor.cpu().numpy(), y_test_pred_probs.cpu().numpy())\n",
    "pr_auc = auc(recall, precision)\n",
    "\n",
    "print(f\"\\nROC AUC Score: {roc_auc:.4f}\")\n",
    "print(f\"Precision-Recall AUC: {pr_auc:.4f}\")"
   ]
  },
  {
   "cell_type": "code",
   "execution_count": 33,
   "metadata": {},
   "outputs": [
    {
     "data": {
      "text/plain": [
       "<matplotlib.legend.Legend at 0x71a058b24620>"
      ]
     },
     "execution_count": 33,
     "metadata": {},
     "output_type": "execute_result"
    },
    {
     "data": {
      "image/png": "[encoded data removed]",
      "text/plain": [
       "<Figure size 1400x500 with 1 Axes>"
      ]
     },
     "metadata": {},
     "output_type": "display_data"
    }
   ],
   "source": [
    "# Plot training and validation metrics\n",
    "plt.figure(figsize=(14, 5))\n",
    "\n",
    "# Plot training and validation losses\n",
    "plt.subplot(1, 2, 1)\n",
    "plt.plot(train_losses, label='Train Loss')\n",
    "plt.plot(val_losses, label='Validation Loss')\n",
    "plt.title('Loss over Epochs')\n",
    "plt.xlabel('Epochs')\n",
    "plt.ylabel('Loss')\n",
    "plt.legend()\n"
   ]
  },
  {
   "cell_type": "code",
   "execution_count": 34,
   "metadata": {},
   "outputs": [
    {
     "data": {
      "image/png": "[encoded data removed]",
      "text/plain": [
       "<Figure size 640x480 with 1 Axes>"
      ]
     },
     "metadata": {},
     "output_type": "display_data"
    }
   ],
   "source": [
    "# Plot training and validation accuracies\n",
    "plt.subplot(1, 2, 2)\n",
    "plt.plot(train_accuracies, label='Train Accuracy')\n",
    "plt.plot(val_accuracies, label='Validation Accuracy')\n",
    "plt.title('Accuracy over Epochs')\n",
    "plt.xlabel('Epochs')\n",
    "plt.ylabel('Accuracy')\n",
    "plt.legend()\n",
    "\n",
    "plt.tight_layout()\n",
    "plt.show()"
   ]
  },
  {
   "cell_type": "code",
   "execution_count": null,
   "metadata": {},
   "outputs": [],
   "source": []
  }
 ],
 "metadata": {
  "kernelspec": {
   "display_name": "base",
   "language": "python",
   "name": "python3"
  },
  "language_info": {
   "codemirror_mode": {
    "name": "ipython",
    "version": 3
   },
   "file_extension": ".py",
   "mimetype": "text/x-python",
   "name": "python",
   "nbconvert_exporter": "python",
   "pygments_lexer": "ipython3",
   "version": "3.12.4"
  }
 },
 "nbformat": 4,
 "nbformat_minor": 2
}
